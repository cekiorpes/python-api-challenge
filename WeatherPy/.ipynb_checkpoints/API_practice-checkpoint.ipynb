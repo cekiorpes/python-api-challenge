{
 "cells": [
  {
   "cell_type": "code",
   "execution_count": 1,
   "id": "3d8d17f1",
   "metadata": {},
   "outputs": [],
   "source": [
    "# Dependencies and Setup\n",
    "import matplotlib.pyplot as plt\n",
    "import pandas as pd\n",
    "import numpy as np\n",
    "import requests\n",
    "import time\n",
    "from scipy.stats import linregress\n",
    "from pprint import pprint\n",
    "from datetime import datetime as dt\n",
    "\n",
    "# Output File (CSV)\n",
    "output_data_file = \"../output_data/cities.csv\"\n",
    "\n",
    "# Import API key\n",
    "from api_keys import weather_api_key"
   ]
  },
  {
   "cell_type": "code",
   "execution_count": 3,
   "id": "8d5ec6de",
   "metadata": {},
   "outputs": [
    {
     "name": "stdout",
     "output_type": "stream",
     "text": [
      "Beginning Data Retrieval\n",
      "---------------------------\n",
      "Processing: London, city ID: 2643743\n",
      "Processing: Paris, city ID: 2988507\n",
      "Processing: Barcelona, city ID: 3128760\n",
      "Processing: Cork, city ID: 2965140\n",
      "Processing: Brussels, city ID: 2800866\n",
      "Processing: Cape Town, city ID: 3369157\n",
      "---------------------------\n",
      "Data Retrieval Complete\n",
      "---------------------------\n"
     ]
    }
   ],
   "source": [
    "cities = [\"London\", \"Paris\", \"Barcelona\", \"Cork\", \"Brussels\", \"Cape Town\"]\n",
    "units = \"imperial\"\n",
    "\n",
    "City = []\n",
    "Lat = []\n",
    "Lng = []\n",
    "Max_Temp = []\n",
    "Humidity = []\n",
    "Cloudiness = []\n",
    "Wind_Speed = []\n",
    "Country = []\n",
    "Date = []\n",
    "\n",
    "count = 0\n",
    "\n",
    "print(\"Beginning Data Retrieval\")\n",
    "print(\"---------------------------\")\n",
    "\n",
    "for city in cities:\n",
    "    query = (f\"http://api.openweathermap.org/data/2.5/weather?q={city}&appid={weather_api_key}&units={units}\")\n",
    "    response = requests.get(query).json()\n",
    "    count += 1\n",
    "    \n",
    "    if count == 2:\n",
    "        count = 0\n",
    "        time.sleep(10)\n",
    "        \n",
    "    try:\n",
    "        City.append(response[\"name\"])\n",
    "        Lat.append(response[\"coord\"][\"lat\"])\n",
    "        Lng.append(response[\"coord\"][\"lon\"])\n",
    "        Max_Temp.append(response[\"main\"][\"temp_max\"])\n",
    "        Humidity.append(response[\"main\"][\"humidity\"])\n",
    "        Cloudiness.append(response[\"clouds\"][\"all\"])\n",
    "        Wind_Speed.append(response[\"wind\"][\"speed\"])\n",
    "        Country.append(response[\"sys\"][\"country\"])\n",
    "        Date.append(response[\"dt\"])\n",
    "    \n",
    "        print(f'Processing: {response[\"name\"]}, city ID: {response[\"id\"]}')\n",
    "        \n",
    "    \n",
    "    except:\n",
    "        print(\"City not found. Skipping...\")\n",
    "             \n",
    "\n",
    "print(\"---------------------------\")\n",
    "print(\"Data Retrieval Complete\")\n",
    "print(\"---------------------------\")\n",
    "    "
   ]
  },
  {
   "cell_type": "code",
   "execution_count": 31,
   "id": "3f858526",
   "metadata": {},
   "outputs": [
    {
     "data": {
      "text/html": [
       "<div>\n",
       "<style scoped>\n",
       "    .dataframe tbody tr th:only-of-type {\n",
       "        vertical-align: middle;\n",
       "    }\n",
       "\n",
       "    .dataframe tbody tr th {\n",
       "        vertical-align: top;\n",
       "    }\n",
       "\n",
       "    .dataframe thead th {\n",
       "        text-align: right;\n",
       "    }\n",
       "</style>\n",
       "<table border=\"1\" class=\"dataframe\">\n",
       "  <thead>\n",
       "    <tr style=\"text-align: right;\">\n",
       "      <th></th>\n",
       "      <th>City</th>\n",
       "      <th>Lat</th>\n",
       "      <th>Lng</th>\n",
       "      <th>Max Temp</th>\n",
       "      <th>Humidity</th>\n",
       "      <th>Cloudiness</th>\n",
       "      <th>Wind Speed</th>\n",
       "      <th>Country</th>\n",
       "      <th>Date</th>\n",
       "    </tr>\n",
       "  </thead>\n",
       "  <tbody>\n",
       "    <tr>\n",
       "      <th>0</th>\n",
       "      <td>London</td>\n",
       "      <td>51.5085</td>\n",
       "      <td>-0.1257</td>\n",
       "      <td>39.69</td>\n",
       "      <td>84</td>\n",
       "      <td>100</td>\n",
       "      <td>5.75</td>\n",
       "      <td>GB</td>\n",
       "      <td>1643059460</td>\n",
       "    </tr>\n",
       "    <tr>\n",
       "      <th>1</th>\n",
       "      <td>Paris</td>\n",
       "      <td>48.8534</td>\n",
       "      <td>2.3488</td>\n",
       "      <td>37.22</td>\n",
       "      <td>92</td>\n",
       "      <td>0</td>\n",
       "      <td>3.44</td>\n",
       "      <td>FR</td>\n",
       "      <td>1643059405</td>\n",
       "    </tr>\n",
       "    <tr>\n",
       "      <th>2</th>\n",
       "      <td>Barcelona</td>\n",
       "      <td>41.3888</td>\n",
       "      <td>2.1590</td>\n",
       "      <td>49.53</td>\n",
       "      <td>84</td>\n",
       "      <td>20</td>\n",
       "      <td>5.75</td>\n",
       "      <td>ES</td>\n",
       "      <td>1643059354</td>\n",
       "    </tr>\n",
       "    <tr>\n",
       "      <th>3</th>\n",
       "      <td>Cork</td>\n",
       "      <td>51.8980</td>\n",
       "      <td>-8.4706</td>\n",
       "      <td>46.63</td>\n",
       "      <td>83</td>\n",
       "      <td>75</td>\n",
       "      <td>6.91</td>\n",
       "      <td>IE</td>\n",
       "      <td>1643059326</td>\n",
       "    </tr>\n",
       "    <tr>\n",
       "      <th>4</th>\n",
       "      <td>Brussels</td>\n",
       "      <td>50.8504</td>\n",
       "      <td>4.3488</td>\n",
       "      <td>35.76</td>\n",
       "      <td>90</td>\n",
       "      <td>0</td>\n",
       "      <td>2.30</td>\n",
       "      <td>BE</td>\n",
       "      <td>1643059383</td>\n",
       "    </tr>\n",
       "    <tr>\n",
       "      <th>5</th>\n",
       "      <td>Cape Town</td>\n",
       "      <td>-33.9258</td>\n",
       "      <td>18.4232</td>\n",
       "      <td>70.12</td>\n",
       "      <td>84</td>\n",
       "      <td>75</td>\n",
       "      <td>5.01</td>\n",
       "      <td>ZA</td>\n",
       "      <td>1643059566</td>\n",
       "    </tr>\n",
       "  </tbody>\n",
       "</table>\n",
       "</div>"
      ],
      "text/plain": [
       "        City      Lat      Lng  Max Temp  Humidity  Cloudiness  Wind Speed  \\\n",
       "0     London  51.5085  -0.1257     39.69        84         100        5.75   \n",
       "1      Paris  48.8534   2.3488     37.22        92           0        3.44   \n",
       "2  Barcelona  41.3888   2.1590     49.53        84          20        5.75   \n",
       "3       Cork  51.8980  -8.4706     46.63        83          75        6.91   \n",
       "4   Brussels  50.8504   4.3488     35.76        90           0        2.30   \n",
       "5  Cape Town -33.9258  18.4232     70.12        84          75        5.01   \n",
       "\n",
       "  Country        Date  \n",
       "0      GB  1643059460  \n",
       "1      FR  1643059405  \n",
       "2      ES  1643059354  \n",
       "3      IE  1643059326  \n",
       "4      BE  1643059383  \n",
       "5      ZA  1643059566  "
      ]
     },
     "execution_count": 31,
     "metadata": {},
     "output_type": "execute_result"
    }
   ],
   "source": [
    "weather_data = pd.DataFrame({\"City\": City,\n",
    "                            \"Lat\": Lat,\n",
    "                            \"Lng\": Lng,\n",
    "                            \"Max Temp\": Max_Temp,\n",
    "                            \"Humidity\": Humidity,\n",
    "                            \"Cloudiness\": Cloudiness,\n",
    "                            \"Wind Speed\": Wind_Speed,\n",
    "                            \"Country\": Country,\n",
    "                            \"Date\": Date})\n",
    "\n",
    "weather_data.to_csv(output_data_file)\n",
    "\n",
    "weather_data"
   ]
  },
  {
   "cell_type": "code",
   "execution_count": 32,
   "id": "4ef287ee",
   "metadata": {},
   "outputs": [
    {
     "data": {
      "text/html": [
       "<div>\n",
       "<style scoped>\n",
       "    .dataframe tbody tr th:only-of-type {\n",
       "        vertical-align: middle;\n",
       "    }\n",
       "\n",
       "    .dataframe tbody tr th {\n",
       "        vertical-align: top;\n",
       "    }\n",
       "\n",
       "    .dataframe thead th {\n",
       "        text-align: right;\n",
       "    }\n",
       "</style>\n",
       "<table border=\"1\" class=\"dataframe\">\n",
       "  <thead>\n",
       "    <tr style=\"text-align: right;\">\n",
       "      <th></th>\n",
       "      <th>Lat</th>\n",
       "      <th>Lng</th>\n",
       "      <th>Max Temp</th>\n",
       "      <th>Humidity</th>\n",
       "      <th>Cloudiness</th>\n",
       "      <th>Wind Speed</th>\n",
       "      <th>Date</th>\n",
       "    </tr>\n",
       "  </thead>\n",
       "  <tbody>\n",
       "    <tr>\n",
       "      <th>count</th>\n",
       "      <td>6.000000</td>\n",
       "      <td>6.000000</td>\n",
       "      <td>6.000000</td>\n",
       "      <td>6.000000</td>\n",
       "      <td>6.000000</td>\n",
       "      <td>6.00000</td>\n",
       "      <td>6.000000e+00</td>\n",
       "    </tr>\n",
       "    <tr>\n",
       "      <th>mean</th>\n",
       "      <td>35.095550</td>\n",
       "      <td>3.113917</td>\n",
       "      <td>46.491667</td>\n",
       "      <td>86.166667</td>\n",
       "      <td>45.000000</td>\n",
       "      <td>4.86000</td>\n",
       "      <td>1.643059e+09</td>\n",
       "    </tr>\n",
       "    <tr>\n",
       "      <th>std</th>\n",
       "      <td>34.037487</td>\n",
       "      <td>8.741768</td>\n",
       "      <td>12.766706</td>\n",
       "      <td>3.816630</td>\n",
       "      <td>43.588989</td>\n",
       "      <td>1.69583</td>\n",
       "      <td>8.670563e+01</td>\n",
       "    </tr>\n",
       "    <tr>\n",
       "      <th>min</th>\n",
       "      <td>-33.925800</td>\n",
       "      <td>-8.470600</td>\n",
       "      <td>35.760000</td>\n",
       "      <td>83.000000</td>\n",
       "      <td>0.000000</td>\n",
       "      <td>2.30000</td>\n",
       "      <td>1.643059e+09</td>\n",
       "    </tr>\n",
       "    <tr>\n",
       "      <th>25%</th>\n",
       "      <td>43.254950</td>\n",
       "      <td>0.445475</td>\n",
       "      <td>37.837500</td>\n",
       "      <td>84.000000</td>\n",
       "      <td>5.000000</td>\n",
       "      <td>3.83250</td>\n",
       "      <td>1.643059e+09</td>\n",
       "    </tr>\n",
       "    <tr>\n",
       "      <th>50%</th>\n",
       "      <td>49.851900</td>\n",
       "      <td>2.253900</td>\n",
       "      <td>43.160000</td>\n",
       "      <td>84.000000</td>\n",
       "      <td>47.500000</td>\n",
       "      <td>5.38000</td>\n",
       "      <td>1.643059e+09</td>\n",
       "    </tr>\n",
       "    <tr>\n",
       "      <th>75%</th>\n",
       "      <td>51.343975</td>\n",
       "      <td>3.848800</td>\n",
       "      <td>48.805000</td>\n",
       "      <td>88.500000</td>\n",
       "      <td>75.000000</td>\n",
       "      <td>5.75000</td>\n",
       "      <td>1.643059e+09</td>\n",
       "    </tr>\n",
       "    <tr>\n",
       "      <th>max</th>\n",
       "      <td>51.898000</td>\n",
       "      <td>18.423200</td>\n",
       "      <td>70.120000</td>\n",
       "      <td>92.000000</td>\n",
       "      <td>100.000000</td>\n",
       "      <td>6.91000</td>\n",
       "      <td>1.643060e+09</td>\n",
       "    </tr>\n",
       "  </tbody>\n",
       "</table>\n",
       "</div>"
      ],
      "text/plain": [
       "             Lat        Lng   Max Temp   Humidity  Cloudiness  Wind Speed  \\\n",
       "count   6.000000   6.000000   6.000000   6.000000    6.000000     6.00000   \n",
       "mean   35.095550   3.113917  46.491667  86.166667   45.000000     4.86000   \n",
       "std    34.037487   8.741768  12.766706   3.816630   43.588989     1.69583   \n",
       "min   -33.925800  -8.470600  35.760000  83.000000    0.000000     2.30000   \n",
       "25%    43.254950   0.445475  37.837500  84.000000    5.000000     3.83250   \n",
       "50%    49.851900   2.253900  43.160000  84.000000   47.500000     5.38000   \n",
       "75%    51.343975   3.848800  48.805000  88.500000   75.000000     5.75000   \n",
       "max    51.898000  18.423200  70.120000  92.000000  100.000000     6.91000   \n",
       "\n",
       "               Date  \n",
       "count  6.000000e+00  \n",
       "mean   1.643059e+09  \n",
       "std    8.670563e+01  \n",
       "min    1.643059e+09  \n",
       "25%    1.643059e+09  \n",
       "50%    1.643059e+09  \n",
       "75%    1.643059e+09  \n",
       "max    1.643060e+09  "
      ]
     },
     "execution_count": 32,
     "metadata": {},
     "output_type": "execute_result"
    }
   ],
   "source": [
    "weather_data.describe()"
   ]
  },
  {
   "cell_type": "code",
   "execution_count": 33,
   "id": "033f6dd3",
   "metadata": {},
   "outputs": [],
   "source": [
    "try:\n",
    "    weather_data_clean = weather_data.loc[weather_data[\"Humidity\"] < 100]\n",
    "    weather_data_clean.describe()\n",
    "except:\n",
    "    pass"
   ]
  },
  {
   "cell_type": "code",
   "execution_count": 34,
   "id": "6e56a946",
   "metadata": {},
   "outputs": [
    {
     "data": {
      "text/plain": [
       "[]"
      ]
     },
     "execution_count": 34,
     "metadata": {},
     "output_type": "execute_result"
    }
   ],
   "source": [
    "humidity_indices = list(np.where(weather_data[\"Humidity\"] >= 100)[0])\n",
    "\n",
    "humidity_indices"
   ]
  },
  {
   "cell_type": "code",
   "execution_count": 35,
   "id": "4617b020",
   "metadata": {},
   "outputs": [
    {
     "data": {
      "text/html": [
       "<div>\n",
       "<style scoped>\n",
       "    .dataframe tbody tr th:only-of-type {\n",
       "        vertical-align: middle;\n",
       "    }\n",
       "\n",
       "    .dataframe tbody tr th {\n",
       "        vertical-align: top;\n",
       "    }\n",
       "\n",
       "    .dataframe thead th {\n",
       "        text-align: right;\n",
       "    }\n",
       "</style>\n",
       "<table border=\"1\" class=\"dataframe\">\n",
       "  <thead>\n",
       "    <tr style=\"text-align: right;\">\n",
       "      <th></th>\n",
       "      <th>City</th>\n",
       "      <th>Lat</th>\n",
       "      <th>Lng</th>\n",
       "      <th>Max Temp</th>\n",
       "      <th>Humidity</th>\n",
       "      <th>Cloudiness</th>\n",
       "      <th>Wind Speed</th>\n",
       "      <th>Country</th>\n",
       "      <th>Date</th>\n",
       "    </tr>\n",
       "  </thead>\n",
       "  <tbody>\n",
       "    <tr>\n",
       "      <th>0</th>\n",
       "      <td>London</td>\n",
       "      <td>51.5085</td>\n",
       "      <td>-0.1257</td>\n",
       "      <td>39.69</td>\n",
       "      <td>84</td>\n",
       "      <td>100</td>\n",
       "      <td>5.75</td>\n",
       "      <td>GB</td>\n",
       "      <td>2022-01-24 21:24:20</td>\n",
       "    </tr>\n",
       "    <tr>\n",
       "      <th>1</th>\n",
       "      <td>Paris</td>\n",
       "      <td>48.8534</td>\n",
       "      <td>2.3488</td>\n",
       "      <td>37.22</td>\n",
       "      <td>92</td>\n",
       "      <td>0</td>\n",
       "      <td>3.44</td>\n",
       "      <td>FR</td>\n",
       "      <td>2022-01-24 21:23:25</td>\n",
       "    </tr>\n",
       "    <tr>\n",
       "      <th>2</th>\n",
       "      <td>Barcelona</td>\n",
       "      <td>41.3888</td>\n",
       "      <td>2.1590</td>\n",
       "      <td>49.53</td>\n",
       "      <td>84</td>\n",
       "      <td>20</td>\n",
       "      <td>5.75</td>\n",
       "      <td>ES</td>\n",
       "      <td>2022-01-24 21:22:34</td>\n",
       "    </tr>\n",
       "    <tr>\n",
       "      <th>3</th>\n",
       "      <td>Cork</td>\n",
       "      <td>51.8980</td>\n",
       "      <td>-8.4706</td>\n",
       "      <td>46.63</td>\n",
       "      <td>83</td>\n",
       "      <td>75</td>\n",
       "      <td>6.91</td>\n",
       "      <td>IE</td>\n",
       "      <td>2022-01-24 21:22:06</td>\n",
       "    </tr>\n",
       "    <tr>\n",
       "      <th>4</th>\n",
       "      <td>Brussels</td>\n",
       "      <td>50.8504</td>\n",
       "      <td>4.3488</td>\n",
       "      <td>35.76</td>\n",
       "      <td>90</td>\n",
       "      <td>0</td>\n",
       "      <td>2.30</td>\n",
       "      <td>BE</td>\n",
       "      <td>2022-01-24 21:23:03</td>\n",
       "    </tr>\n",
       "    <tr>\n",
       "      <th>5</th>\n",
       "      <td>Cape Town</td>\n",
       "      <td>-33.9258</td>\n",
       "      <td>18.4232</td>\n",
       "      <td>70.12</td>\n",
       "      <td>84</td>\n",
       "      <td>75</td>\n",
       "      <td>5.01</td>\n",
       "      <td>ZA</td>\n",
       "      <td>2022-01-24 21:26:06</td>\n",
       "    </tr>\n",
       "  </tbody>\n",
       "</table>\n",
       "</div>"
      ],
      "text/plain": [
       "        City      Lat      Lng  Max Temp  Humidity  Cloudiness  Wind Speed  \\\n",
       "0     London  51.5085  -0.1257     39.69        84         100        5.75   \n",
       "1      Paris  48.8534   2.3488     37.22        92           0        3.44   \n",
       "2  Barcelona  41.3888   2.1590     49.53        84          20        5.75   \n",
       "3       Cork  51.8980  -8.4706     46.63        83          75        6.91   \n",
       "4   Brussels  50.8504   4.3488     35.76        90           0        2.30   \n",
       "5  Cape Town -33.9258  18.4232     70.12        84          75        5.01   \n",
       "\n",
       "  Country                Date  \n",
       "0      GB 2022-01-24 21:24:20  \n",
       "1      FR 2022-01-24 21:23:25  \n",
       "2      ES 2022-01-24 21:22:34  \n",
       "3      IE 2022-01-24 21:22:06  \n",
       "4      BE 2022-01-24 21:23:03  \n",
       "5      ZA 2022-01-24 21:26:06  "
      ]
     },
     "execution_count": 35,
     "metadata": {},
     "output_type": "execute_result"
    }
   ],
   "source": [
    "clean_city_data = weather_data.drop(index = humidity_indices, inplace=False)\n",
    "\n",
    "clean_city_data[\"Date\"] = clean_city_data[\"Date\"].astype('int').astype(\"datetime64[s]\")\n",
    "clean_city_data"
   ]
  },
  {
   "cell_type": "code",
   "execution_count": 103,
   "id": "07b428c7",
   "metadata": {},
   "outputs": [
    {
     "data": {
      "image/png": "[encoded data removed]",
      "text/plain": [
       "<Figure size 432x288 with 1 Axes>"
      ]
     },
     "metadata": {
      "needs_background": "light"
     },
     "output_type": "display_data"
    }
   ],
   "source": [
    "#Scatter plot of latitude vs max temperature\n",
    "def scatter(y_column, ylabel):\n",
    "    x_values = clean_city_data[\"Lat\"]\n",
    "    y_values = clean_city_data[y_column]\n",
    "    plt.scatter(x_values,y_values)\n",
    "    plt.xlabel(\"Latitude\")\n",
    "    plt.ylabel(ylabel)\n",
    "    plt.title(f\"\"\"City Latitude vs {ylabel} ({clean_city_data.iloc[0,8].strftime('%m-%d-%Y')})\"\"\")\n",
    "    plt.grid()\n",
    "    plt.savefig(f\"../output_data/Cities_{y_column}.png\")\n",
    "    plt.show()\n",
    "    \n",
    "    \n",
    "# x_values = clean_city_data[\"Lat\"]\n",
    "# y_values = clean_city_data[\"Max Temp\"]\n",
    "# plt.scatter(x_values,y_values)\n",
    "# plt.xlabel(\"Latitude\")\n",
    "# plt.ylabel(\"Max Temperature (F)\")\n",
    "# plt.title(f\"\"\"City Latitude vs Max Temperature ({clean_city_data.iloc[0,8].strftime('%m-%d-%Y')})\"\"\")\n",
    "# plt.grid(True)\n",
    "# plt.show()\n",
    "\n",
    "scatter(\"Max Temp\", \"Max Temperature (F)\")"
   ]
  },
  {
   "cell_type": "code",
   "execution_count": 70,
   "id": "4c17b5cb",
   "metadata": {},
   "outputs": [
    {
     "data": {
      "image/png": "[encoded data removed]",
      "text/plain": [
       "<Figure size 432x288 with 1 Axes>"
      ]
     },
     "metadata": {
      "needs_background": "light"
     },
     "output_type": "display_data"
    }
   ],
   "source": [
    "#Scatter plot of latitude versus humidity\n",
    "scatter(\"Humidity\", \"Humidity (%)\")\n",
    "\n",
    "# x_values = clean_city_data[\"Lat\"]\n",
    "# y_values = clean_city_data[\"Humidity\"]\n",
    "# plt.scatter(x_values,y_values)\n",
    "# plt.xlabel(\"Latitude\")\n",
    "# plt.ylabel(\"Humidity (%)\")\n",
    "# plt.title(f\"\"\"City Latitude vs Humidity ({clean_city_data.iloc[0,8].strftime('%m-%d-%Y')})\"\"\")\n",
    "# plt.grid(True)\n",
    "# plt.show()"
   ]
  },
  {
   "cell_type": "code",
   "execution_count": 71,
   "id": "575fc843",
   "metadata": {},
   "outputs": [
    {
     "data": {
      "image/png": "[encoded data removed]",
      "text/plain": [
       "<Figure size 432x288 with 1 Axes>"
      ]
     },
     "metadata": {
      "needs_background": "light"
     },
     "output_type": "display_data"
    }
   ],
   "source": [
    "#Scatter plot of latitude versus cloudiness\n",
    "scatter(\"Cloudiness\", \"Cloudiness (%)\")\n",
    "\n",
    "# x_values = clean_city_data[\"Lat\"]\n",
    "# y_values = clean_city_data[\"Cloudiness\"]\n",
    "# plt.scatter(x_values,y_values)\n",
    "# plt.xlabel(\"Latitude\")\n",
    "# plt.ylabel(\"Cloudiness (%)\")\n",
    "# plt.title(f\"\"\"City Latitude vs Cloudiness ({clean_city_data.iloc[0,8].strftime('%m-%d-%Y')})\"\"\")\n",
    "# plt.grid(True)\n",
    "# plt.show()"
   ]
  },
  {
   "cell_type": "code",
   "execution_count": 72,
   "id": "faf1380a",
   "metadata": {},
   "outputs": [
    {
     "data": {
      "image/png": "[encoded data removed]",
      "text/plain": [
       "<Figure size 432x288 with 1 Axes>"
      ]
     },
     "metadata": {
      "needs_background": "light"
     },
     "output_type": "display_data"
    }
   ],
   "source": [
    "#Scatter plot of latitude versus wind speed\n",
    "scatter(\"Wind Speed\", \"Wind Speed (mph)\")\n",
    "\n",
    "# x_values = clean_city_data[\"Lat\"]\n",
    "# y_values = clean_city_data[\"Wind Speed\"]\n",
    "# plt.scatter(x_values,y_values)\n",
    "# plt.xlabel(\"Latitude\")\n",
    "# plt.ylabel(\"Wind Speed (mph)\")\n",
    "# plt.title(f\"\"\"City Latitude vs Wind Speed ({clean_city_data.iloc[0,8].strftime('%m-%d-%Y')})\"\"\")\n",
    "# plt.grid(True)\n",
    "# plt.show()"
   ]
  },
  {
   "cell_type": "code",
   "execution_count": 55,
   "id": "f65540e4",
   "metadata": {},
   "outputs": [
    {
     "data": {
      "text/html": [
       "<div>\n",
       "<style scoped>\n",
       "    .dataframe tbody tr th:only-of-type {\n",
       "        vertical-align: middle;\n",
       "    }\n",
       "\n",
       "    .dataframe tbody tr th {\n",
       "        vertical-align: top;\n",
       "    }\n",
       "\n",
       "    .dataframe thead th {\n",
       "        text-align: right;\n",
       "    }\n",
       "</style>\n",
       "<table border=\"1\" class=\"dataframe\">\n",
       "  <thead>\n",
       "    <tr style=\"text-align: right;\">\n",
       "      <th></th>\n",
       "      <th>City</th>\n",
       "      <th>Lat</th>\n",
       "      <th>Lng</th>\n",
       "      <th>Max Temp</th>\n",
       "      <th>Humidity</th>\n",
       "      <th>Cloudiness</th>\n",
       "      <th>Wind Speed</th>\n",
       "      <th>Country</th>\n",
       "      <th>Date</th>\n",
       "    </tr>\n",
       "  </thead>\n",
       "  <tbody>\n",
       "    <tr>\n",
       "      <th>0</th>\n",
       "      <td>London</td>\n",
       "      <td>51.5085</td>\n",
       "      <td>-0.1257</td>\n",
       "      <td>39.69</td>\n",
       "      <td>84</td>\n",
       "      <td>100</td>\n",
       "      <td>5.75</td>\n",
       "      <td>GB</td>\n",
       "      <td>2022-01-24 21:24:20</td>\n",
       "    </tr>\n",
       "    <tr>\n",
       "      <th>1</th>\n",
       "      <td>Paris</td>\n",
       "      <td>48.8534</td>\n",
       "      <td>2.3488</td>\n",
       "      <td>37.22</td>\n",
       "      <td>92</td>\n",
       "      <td>0</td>\n",
       "      <td>3.44</td>\n",
       "      <td>FR</td>\n",
       "      <td>2022-01-24 21:23:25</td>\n",
       "    </tr>\n",
       "    <tr>\n",
       "      <th>2</th>\n",
       "      <td>Barcelona</td>\n",
       "      <td>41.3888</td>\n",
       "      <td>2.1590</td>\n",
       "      <td>49.53</td>\n",
       "      <td>84</td>\n",
       "      <td>20</td>\n",
       "      <td>5.75</td>\n",
       "      <td>ES</td>\n",
       "      <td>2022-01-24 21:22:34</td>\n",
       "    </tr>\n",
       "    <tr>\n",
       "      <th>3</th>\n",
       "      <td>Cork</td>\n",
       "      <td>51.8980</td>\n",
       "      <td>-8.4706</td>\n",
       "      <td>46.63</td>\n",
       "      <td>83</td>\n",
       "      <td>75</td>\n",
       "      <td>6.91</td>\n",
       "      <td>IE</td>\n",
       "      <td>2022-01-24 21:22:06</td>\n",
       "    </tr>\n",
       "    <tr>\n",
       "      <th>4</th>\n",
       "      <td>Brussels</td>\n",
       "      <td>50.8504</td>\n",
       "      <td>4.3488</td>\n",
       "      <td>35.76</td>\n",
       "      <td>90</td>\n",
       "      <td>0</td>\n",
       "      <td>2.30</td>\n",
       "      <td>BE</td>\n",
       "      <td>2022-01-24 21:23:03</td>\n",
       "    </tr>\n",
       "  </tbody>\n",
       "</table>\n",
       "</div>"
      ],
      "text/plain": [
       "        City      Lat     Lng  Max Temp  Humidity  Cloudiness  Wind Speed  \\\n",
       "0     London  51.5085 -0.1257     39.69        84         100        5.75   \n",
       "1      Paris  48.8534  2.3488     37.22        92           0        3.44   \n",
       "2  Barcelona  41.3888  2.1590     49.53        84          20        5.75   \n",
       "3       Cork  51.8980 -8.4706     46.63        83          75        6.91   \n",
       "4   Brussels  50.8504  4.3488     35.76        90           0        2.30   \n",
       "\n",
       "  Country                Date  \n",
       "0      GB 2022-01-24 21:24:20  \n",
       "1      FR 2022-01-24 21:23:25  \n",
       "2      ES 2022-01-24 21:22:34  \n",
       "3      IE 2022-01-24 21:22:06  \n",
       "4      BE 2022-01-24 21:23:03  "
      ]
     },
     "execution_count": 55,
     "metadata": {},
     "output_type": "execute_result"
    }
   ],
   "source": [
    "#Linear regression\n",
    "#Split df by hemisphere - northern where lat > 0, southern where lat < 0\n",
    "northern_city = clean_city_data.loc[clean_city_data[\"Lat\"] >= 0]\n",
    "northern_city"
   ]
  },
  {
   "cell_type": "code",
   "execution_count": 56,
   "id": "bba47cb6",
   "metadata": {},
   "outputs": [
    {
     "data": {
      "text/html": [
       "<div>\n",
       "<style scoped>\n",
       "    .dataframe tbody tr th:only-of-type {\n",
       "        vertical-align: middle;\n",
       "    }\n",
       "\n",
       "    .dataframe tbody tr th {\n",
       "        vertical-align: top;\n",
       "    }\n",
       "\n",
       "    .dataframe thead th {\n",
       "        text-align: right;\n",
       "    }\n",
       "</style>\n",
       "<table border=\"1\" class=\"dataframe\">\n",
       "  <thead>\n",
       "    <tr style=\"text-align: right;\">\n",
       "      <th></th>\n",
       "      <th>City</th>\n",
       "      <th>Lat</th>\n",
       "      <th>Lng</th>\n",
       "      <th>Max Temp</th>\n",
       "      <th>Humidity</th>\n",
       "      <th>Cloudiness</th>\n",
       "      <th>Wind Speed</th>\n",
       "      <th>Country</th>\n",
       "      <th>Date</th>\n",
       "    </tr>\n",
       "  </thead>\n",
       "  <tbody>\n",
       "    <tr>\n",
       "      <th>5</th>\n",
       "      <td>Cape Town</td>\n",
       "      <td>-33.9258</td>\n",
       "      <td>18.4232</td>\n",
       "      <td>70.12</td>\n",
       "      <td>84</td>\n",
       "      <td>75</td>\n",
       "      <td>5.01</td>\n",
       "      <td>ZA</td>\n",
       "      <td>2022-01-24 21:26:06</td>\n",
       "    </tr>\n",
       "  </tbody>\n",
       "</table>\n",
       "</div>"
      ],
      "text/plain": [
       "        City      Lat      Lng  Max Temp  Humidity  Cloudiness  Wind Speed  \\\n",
       "5  Cape Town -33.9258  18.4232     70.12        84          75        5.01   \n",
       "\n",
       "  Country                Date  \n",
       "5      ZA 2022-01-24 21:26:06  "
      ]
     },
     "execution_count": 56,
     "metadata": {},
     "output_type": "execute_result"
    }
   ],
   "source": [
    "southern_city = clean_city_data.loc[clean_city_data[\"Lat\"] < 0]\n",
    "southern_city"
   ]
  },
  {
   "cell_type": "code",
   "execution_count": 102,
   "id": "aad559cf",
   "metadata": {},
   "outputs": [
    {
     "data": {
      "image/png": "[encoded data removed]",
      "text/plain": [
       "<Figure size 432x288 with 1 Axes>"
      ]
     },
     "metadata": {
      "needs_background": "light"
     },
     "output_type": "display_data"
    },
    {
     "name": "stdout",
     "output_type": "stream",
     "text": [
      "The r-value is: -0.5777353672269293\n"
     ]
    }
   ],
   "source": [
    "#Northern hemisphere latitude vs max temp linear regression\n",
    "\n",
    "def linreg(df, y_column, ylabel, x_loc, y_loc, hemisphere):\n",
    "    #x- and y- values\n",
    "    x_values = df[\"Lat\"]\n",
    "    y_values = df[y_column]\n",
    "    \n",
    "    #Get regression values\n",
    "    (slope, intercept, rvalue, pvalue, stderr) = linregress(x_values, y_values)\n",
    "    regress_values = x_values * slope + intercept\n",
    "\n",
    "    #Line equation\n",
    "    line_eq = \"y = \" + str(round(slope,2)) + \"x +\" + str(round(intercept,2))\n",
    "    \n",
    "    #Plot scatter plot and linear regression\n",
    "    plt.scatter(x_values,y_values)\n",
    "    plt.plot(x_values,regress_values,\"b\")\n",
    "    plt.annotate(line_eq, (x_loc,y_loc),fontsize=12,color=\"b\")\n",
    "    \n",
    "    #Labels\n",
    "    plt.xlabel(\"Latitude\")\n",
    "    plt.ylabel(ylabel)\n",
    "    plt.grid()\n",
    "    plt.savefig(f\"../output_data/{hemisphere}_{y_column}.png\")\n",
    "    plt.show()\n",
    "    \n",
    "    #Print r-value\n",
    "    print(f\"The r squared value is: {rvalue**2}\")\n",
    "\n",
    "# #x- and y- values\n",
    "# x_values = northern_city[\"Lat\"]\n",
    "# y_values = northern_city[\"Max Temp\"]\n",
    "\n",
    "# #Get regression values\n",
    "# (slope, intercept, rvalue, pvalue, stderr) = linregress(x_values, y_values)\n",
    "# regress_values = x_values * slope + intercept\n",
    "\n",
    "# #Line equation\n",
    "# line_eq = \"y = \" + str(round(slope,2)) + \"x +\" + str(round(intercept,2))\n",
    "# #line_eq = (f\" y = {round(slope,2)} x + {round(intercept,2)}\")\n",
    "\n",
    "# #Plot scatter plot and linear regression\n",
    "# plt.scatter(x_values,y_values)\n",
    "# plt.plot(x_values,regress_values,\"b\")\n",
    "# plt.annotate(line_eq, (42,42),fontsize=10,color=\"b\")\n",
    "\n",
    "# #Labels\n",
    "# plt.xlabel(\"Latitude\")\n",
    "# plt.ylabel(\"Max Temperature (F)\")\n",
    "# plt.title(f\"\"\"City Latitude vs Max Temperature ({northern_city.iloc[0,8].strftime('%m-%d-%Y')})\"\"\")\n",
    "# plt.grid(True)\n",
    "# plt.show()\n",
    "\n",
    "# #Print r-value\n",
    "# print(f\"The r-value is: {rvalue}\")\n",
    "\n",
    "linreg(northern_city, \"Max Temp\", \"Max Temperature (F)\", 42, 42, \"Northern\")"
   ]
  },
  {
   "cell_type": "code",
   "execution_count": 86,
   "id": "1473a097",
   "metadata": {},
   "outputs": [
    {
     "name": "stderr",
     "output_type": "stream",
     "text": [
      "C:\\Users\\Cara\\anaconda3\\lib\\site-packages\\scipy\\stats\\_stats_mstats_common.py:160: RuntimeWarning: invalid value encountered in double_scalars\n",
      "  slope = ssxym / ssxm\n",
      "C:\\Users\\Cara\\anaconda3\\lib\\site-packages\\scipy\\stats\\_stats_mstats_common.py:174: RuntimeWarning: invalid value encountered in sqrt\n",
      "  t = r * np.sqrt(df / ((1.0 - r + TINY)*(1.0 + r + TINY)))\n",
      "C:\\Users\\Cara\\anaconda3\\lib\\site-packages\\scipy\\stats\\_stats_mstats_common.py:176: RuntimeWarning: invalid value encountered in double_scalars\n",
      "  slope_stderr = np.sqrt((1 - r**2) * ssym / ssxm / df)\n"
     ]
    },
    {
     "data": {
      "image/png": "[encoded data removed]",
      "text/plain": [
       "<Figure size 432x288 with 1 Axes>"
      ]
     },
     "metadata": {
      "needs_background": "light"
     },
     "output_type": "display_data"
    },
    {
     "name": "stdout",
     "output_type": "stream",
     "text": [
      "The r-value is: 0.0\n"
     ]
    }
   ],
   "source": [
    "#Southern hemisphere latitude vs max temp linear regression\n",
    "linreg(southern_city, \"Max Temp\", \"Max Temperature (F)\", -34, 69, \"Southern\")"
   ]
  },
  {
   "cell_type": "code",
   "execution_count": 87,
   "id": "522fe0f4",
   "metadata": {},
   "outputs": [
    {
     "data": {
      "image/png": "[encoded data removed]",
      "text/plain": [
       "<Figure size 432x288 with 1 Axes>"
      ]
     },
     "metadata": {
      "needs_background": "light"
     },
     "output_type": "display_data"
    },
    {
     "name": "stdout",
     "output_type": "stream",
     "text": [
      "The r-value is: 0.11660345460813569\n"
     ]
    }
   ],
   "source": [
    "#Northern hemisphere latitude vs humidity linear regression\n",
    "linreg(northern_city, \"Humidity\", \"Humidity (%)\", 43, 90, \"Northern\")"
   ]
  },
  {
   "cell_type": "code",
   "execution_count": 88,
   "id": "f8a9e103",
   "metadata": {},
   "outputs": [
    {
     "name": "stderr",
     "output_type": "stream",
     "text": [
      "C:\\Users\\Cara\\anaconda3\\lib\\site-packages\\scipy\\stats\\_stats_mstats_common.py:160: RuntimeWarning: invalid value encountered in double_scalars\n",
      "  slope = ssxym / ssxm\n",
      "C:\\Users\\Cara\\anaconda3\\lib\\site-packages\\scipy\\stats\\_stats_mstats_common.py:174: RuntimeWarning: invalid value encountered in sqrt\n",
      "  t = r * np.sqrt(df / ((1.0 - r + TINY)*(1.0 + r + TINY)))\n",
      "C:\\Users\\Cara\\anaconda3\\lib\\site-packages\\scipy\\stats\\_stats_mstats_common.py:176: RuntimeWarning: invalid value encountered in double_scalars\n",
      "  slope_stderr = np.sqrt((1 - r**2) * ssym / ssxm / df)\n"
     ]
    },
    {
     "data": {
      "image/png": "[encoded data removed]",
      "text/plain": [
       "<Figure size 432x288 with 1 Axes>"
      ]
     },
     "metadata": {
      "needs_background": "light"
     },
     "output_type": "display_data"
    },
    {
     "name": "stdout",
     "output_type": "stream",
     "text": [
      "The r-value is: 0.0\n"
     ]
    }
   ],
   "source": [
    "#Southern hemisphere latitude vs humidity linear regression\n",
    "linreg(southern_city, \"Humidity\", \"Humidity (%)\", -34, 82, \"Southern\")"
   ]
  },
  {
   "cell_type": "code",
   "execution_count": 89,
   "id": "0db0acd3",
   "metadata": {},
   "outputs": [
    {
     "data": {
      "image/png": "[encoded data removed]",
      "text/plain": [
       "<Figure size 432x288 with 1 Axes>"
      ]
     },
     "metadata": {
      "needs_background": "light"
     },
     "output_type": "display_data"
    },
    {
     "name": "stdout",
     "output_type": "stream",
     "text": [
      "The r-value is: 0.419369200510346\n"
     ]
    }
   ],
   "source": [
    "#Northern hemisphere latitude vs cloudiness linear regression\n",
    "linreg(northern_city, \"Cloudiness\", \"Cloudiness (%)\", 43, 80, \"Northern\")"
   ]
  },
  {
   "cell_type": "code",
   "execution_count": 90,
   "id": "5b4bdaa5",
   "metadata": {},
   "outputs": [
    {
     "name": "stderr",
     "output_type": "stream",
     "text": [
      "C:\\Users\\Cara\\anaconda3\\lib\\site-packages\\scipy\\stats\\_stats_mstats_common.py:160: RuntimeWarning: invalid value encountered in double_scalars\n",
      "  slope = ssxym / ssxm\n",
      "C:\\Users\\Cara\\anaconda3\\lib\\site-packages\\scipy\\stats\\_stats_mstats_common.py:174: RuntimeWarning: invalid value encountered in sqrt\n",
      "  t = r * np.sqrt(df / ((1.0 - r + TINY)*(1.0 + r + TINY)))\n",
      "C:\\Users\\Cara\\anaconda3\\lib\\site-packages\\scipy\\stats\\_stats_mstats_common.py:176: RuntimeWarning: invalid value encountered in double_scalars\n",
      "  slope_stderr = np.sqrt((1 - r**2) * ssym / ssxm / df)\n"
     ]
    },
    {
     "data": {
      "image/png": "[encoded data removed]",
      "text/plain": [
       "<Figure size 432x288 with 1 Axes>"
      ]
     },
     "metadata": {
      "needs_background": "light"
     },
     "output_type": "display_data"
    },
    {
     "name": "stdout",
     "output_type": "stream",
     "text": [
      "The r-value is: 0.0\n"
     ]
    }
   ],
   "source": [
    "#Southern hemisphere latitude vs cloudiness linear regression\n",
    "linreg(southern_city, \"Cloudiness\", \"Cloudiness (%)\", -34, 74, \"Southern\")"
   ]
  },
  {
   "cell_type": "code",
   "execution_count": 91,
   "id": "2d1f2e59",
   "metadata": {},
   "outputs": [
    {
     "data": {
      "image/png": "[encoded data removed]",
      "text/plain": [
       "<Figure size 432x288 with 1 Axes>"
      ]
     },
     "metadata": {
      "needs_background": "light"
     },
     "output_type": "display_data"
    },
    {
     "name": "stdout",
     "output_type": "stream",
     "text": [
      "The r-value is: -0.09519666786128733\n"
     ]
    }
   ],
   "source": [
    "#Northern hemisphere latitude vs cloudiness linear regression\n",
    "linreg(northern_city, \"Wind Speed\", \"Wind Speed (mph)\", 43, 4, \"Northern\")"
   ]
  },
  {
   "cell_type": "code",
   "execution_count": 92,
   "id": "f269aa3f",
   "metadata": {},
   "outputs": [
    {
     "name": "stderr",
     "output_type": "stream",
     "text": [
      "C:\\Users\\Cara\\anaconda3\\lib\\site-packages\\scipy\\stats\\_stats_mstats_common.py:160: RuntimeWarning: invalid value encountered in double_scalars\n",
      "  slope = ssxym / ssxm\n",
      "C:\\Users\\Cara\\anaconda3\\lib\\site-packages\\scipy\\stats\\_stats_mstats_common.py:174: RuntimeWarning: invalid value encountered in sqrt\n",
      "  t = r * np.sqrt(df / ((1.0 - r + TINY)*(1.0 + r + TINY)))\n",
      "C:\\Users\\Cara\\anaconda3\\lib\\site-packages\\scipy\\stats\\_stats_mstats_common.py:176: RuntimeWarning: invalid value encountered in double_scalars\n",
      "  slope_stderr = np.sqrt((1 - r**2) * ssym / ssxm / df)\n"
     ]
    },
    {
     "data": {
      "image/png": "[encoded data removed]",
      "text/plain": [
       "<Figure size 432x288 with 1 Axes>"
      ]
     },
     "metadata": {
      "needs_background": "light"
     },
     "output_type": "display_data"
    },
    {
     "name": "stdout",
     "output_type": "stream",
     "text": [
      "The r-value is: 0.0\n"
     ]
    }
   ],
   "source": [
    "#Southern hemisphere latitude vs cloudiness linear regression\n",
    "linreg(southern_city, \"Wind Speed\", \"Wind Speed (mph)\", -34, 4, \"Southern\")"
   ]
  },
  {
   "cell_type": "code",
   "execution_count": null,
   "id": "41d02192",
   "metadata": {},
   "outputs": [],
   "source": []
  }
 ],
 "metadata": {
  "kernelspec": {
   "display_name": "Python 3",
   "language": "python",
   "name": "python3"
  },
  "language_info": {
   "codemirror_mode": {
    "name": "ipython",
    "version": 3
   },
   "file_extension": ".py",
   "mimetype": "text/x-python",
   "name": "python",
   "nbconvert_exporter": "python",
   "pygments_lexer": "ipython3",
   "version": "3.8.8"
  }
 },
 "nbformat": 4,
 "nbformat_minor": 5
}
