{
 "cells": [
  {
   "cell_type": "markdown",
   "metadata": {},
   "source": [
    "# WeatherPy\n",
    "----\n",
    "\n",
    "#### Note\n",
    "* Instructions have been included for each segment. You do not have to follow them exactly, but they are included to help you think through the steps."
   ]
  },
  {
   "cell_type": "code",
   "execution_count": 2,
   "metadata": {
    "scrolled": true
   },
   "outputs": [],
   "source": [
    "# Dependencies and Setup\n",
    "import matplotlib.pyplot as plt\n",
    "import pandas as pd\n",
    "import numpy as np\n",
    "import requests\n",
    "import time\n",
    "from scipy.stats import linregress\n",
    "\n",
    "# Import API key\n",
    "from api_keys import weather_api_key\n",
    "\n",
    "# Incorporated citipy to determine city based on latitude and longitude\n",
    "from citipy import citipy\n",
    "\n",
    "# Output File (CSV)\n",
    "output_data_file = \"../output_data/cities.csv\"\n",
    "\n",
    "# Range of latitudes and longitudes\n",
    "lat_range = (-90, 90)\n",
    "lng_range = (-180, 180)"
   ]
  },
  {
   "cell_type": "markdown",
   "metadata": {},
   "source": [
    "## Generate Cities List"
   ]
  },
  {
   "cell_type": "code",
   "execution_count": 4,
   "metadata": {},
   "outputs": [
    {
     "data": {
      "text/plain": [
       "54"
      ]
     },
     "execution_count": 4,
     "metadata": {},
     "output_type": "execute_result"
    }
   ],
   "source": [
    "# List for holding lat_lngs and cities\n",
    "lat_lngs = []\n",
    "cities = []\n",
    "\n",
    "# Create a set of random lat and lng combinations\n",
    "lats = np.random.uniform(lat_range[0], lat_range[1], size=70)\n",
    "lngs = np.random.uniform(lng_range[0], lng_range[1], size=70)\n",
    "# lats = np.random.uniform(lat_range[0], lat_range[1], size=1500)\n",
    "# lngs = np.random.uniform(lng_range[0], lng_range[1], size=1500)\n",
    "lat_lngs = zip(lats, lngs)\n",
    "\n",
    "# Identify nearest city for each lat, lng combination\n",
    "for lat_lng in lat_lngs:\n",
    "    city = citipy.nearest_city(lat_lng[0], lat_lng[1]).city_name\n",
    "    \n",
    "    # If the city is unique, then add it to a our cities list\n",
    "    if city not in cities:\n",
    "        cities.append(city)\n",
    "\n",
    "# Print the city count to confirm sufficient count\n",
    "len(cities)"
   ]
  },
  {
   "cell_type": "markdown",
   "metadata": {},
   "source": [
    "### Perform API Calls\n",
    "* Perform a weather check on each city using a series of successive API calls.\n",
    "* Include a print log of each city as it'sbeing processed (with the city number and city name).\n",
    "\n",
    "> **HINT:** The OpenWeatherMap API only allows 60 calls per minute under their free plan. Try using `time.sleep(60)` after each set of 50 cities to avoid API errors due to large calls."
   ]
  },
  {
   "cell_type": "code",
   "execution_count": 5,
   "metadata": {
    "scrolled": true
   },
   "outputs": [
    {
     "name": "stdout",
     "output_type": "stream",
     "text": [
      "Beginning Data Retrieval\n",
      "---------------------------\n",
      "Processing Coyhaique, city ID 3894426\n",
      "Processing Port Alfred, city ID 964432\n",
      "Processing Punta Arenas, city ID 3874787\n",
      "Processing Chui, city ID 3443061\n",
      "Processing Pochutla, city ID 3517970\n",
      "Processing Mataura, city ID 6201424\n",
      "Processing Chamonix, city ID 3027301\n",
      "Processing Requena, city ID 2511930\n",
      "Processing Vanavara, city ID 2013727\n",
      "Processing Hobart, city ID 2163355\n",
      "Processing Ushuaia, city ID 3833367\n",
      "Processing Hasaki, city ID 2112802\n",
      "Processing Sinjai, city ID 1626895\n",
      "Processing Port Hardy, city ID 6111862\n",
      "Processing Cherskiy, city ID 2126199\n",
      "Processing Kapaa, city ID 5848280\n",
      "Processing Butaritari, city ID 2110227\n",
      "Processing Lorengau, city ID 2092164\n",
      "Processing Kemijärvi, city ID 653272\n",
      "Processing Saint-Philippe, city ID 935215\n",
      "City not found. Skipping...\n",
      "Processing Vaini, city ID 4032243\n",
      "Processing Gillette, city ID 5826027\n",
      "Processing Busselton, city ID 2075265\n",
      "Processing Albany, city ID 5106841\n",
      "City not found. Skipping...\n",
      "Processing Khandyga, city ID 2022773\n",
      "Processing Lucapa, city ID 145724\n",
      "City not found. Skipping...\n",
      "Processing Faanui, city ID 4034551\n",
      "Processing Grindavik, city ID 3416888\n",
      "Processing Saskylakh, city ID 2017155\n",
      "City not found. Skipping...\n",
      "Processing Hilo, city ID 5855927\n",
      "Processing Saint Anthony, city ID 5044290\n",
      "Processing Manggar, city ID 1636426\n",
      "Processing Cape Town, city ID 3369157\n",
      "Processing Bānkura, city ID 1277264\n",
      "Processing Puerto Ayora, city ID 3652764\n",
      "Processing Khatanga, city ID 2022572\n",
      "Processing Lebu, city ID 3883457\n",
      "Processing Nhulunbuy, city ID 2064735\n",
      "City not found. Skipping...\n",
      "Processing Warrington, city ID 2634739\n",
      "Processing Mahébourg, city ID 934322\n",
      "Processing Fruitvale, city ID 5422557\n",
      "Processing Lianzhou, city ID 1803841\n",
      "Processing Bathsheba, city ID 3374083\n",
      "Processing Ancud, city ID 3899695\n",
      "Processing Zhigansk, city ID 2012530\n",
      "Processing Qaanaaq, city ID 3831208\n",
      "Processing St. George's, city ID 3579925\n",
      "Processing Rikitea, city ID 4030556\n",
      "Processing Novobirilyussy, city ID 1508260\n",
      "---------------------------\n",
      "Data Retrieval Complete\n",
      "---------------------------\n"
     ]
    }
   ],
   "source": [
    "City = []\n",
    "Lat = []\n",
    "Lng = []\n",
    "Max_Temp = []\n",
    "Humidity = []\n",
    "Cloudiness = []\n",
    "Wind_Speed = []\n",
    "Country = []\n",
    "Date = []\n",
    "\n",
    "units = \"imperial\"\n",
    "\n",
    "print(\"Beginning Data Retrieval\")\n",
    "print(\"---------------------------\")\n",
    "\n",
    "for city in cities:\n",
    "    query = (f\"http://api.openweathermap.org/data/2.5/weather?q={city}&appid={weather_api_key}&units={units}\")\n",
    "    response = requests.get(query).json()\n",
    "    \n",
    "    try:\n",
    "        City.append(response[\"name\"])\n",
    "        Lat.append(response[\"coord\"][\"lat\"])\n",
    "        Lng.append(response[\"coord\"][\"lon\"])\n",
    "        Max_Temp.append(response[\"main\"][\"temp_max\"])\n",
    "        Humidity.append(response[\"main\"][\"humidity\"])\n",
    "        Cloudiness.append(response[\"clouds\"][\"all\"])\n",
    "        Wind_Speed.append(response[\"wind\"][\"speed\"])\n",
    "        Country.append(response[\"sys\"][\"country\"])\n",
    "        Date.append(response[\"dt\"])\n",
    "    \n",
    "        print(f'Processing {response[\"name\"]}, city ID {response[\"id\"]}')\n",
    "        \n",
    "    except:\n",
    "        print(\"City not found. Skipping...\")\n",
    "    \n",
    "    time.sleep(1)\n",
    "    \n",
    "print(\"---------------------------\")\n",
    "print(\"Data Retrieval Complete\")\n",
    "print(\"---------------------------\")\n",
    "    "
   ]
  },
  {
   "cell_type": "markdown",
   "metadata": {},
   "source": [
    "### Convert Raw Data to DataFrame\n",
    "* Export the city data into a .csv.\n",
    "* Display the DataFrame"
   ]
  },
  {
   "cell_type": "code",
   "execution_count": 7,
   "metadata": {},
   "outputs": [
    {
     "data": {
      "text/html": [
       "<div>\n",
       "<style scoped>\n",
       "    .dataframe tbody tr th:only-of-type {\n",
       "        vertical-align: middle;\n",
       "    }\n",
       "\n",
       "    .dataframe tbody tr th {\n",
       "        vertical-align: top;\n",
       "    }\n",
       "\n",
       "    .dataframe thead th {\n",
       "        text-align: right;\n",
       "    }\n",
       "</style>\n",
       "<table border=\"1\" class=\"dataframe\">\n",
       "  <thead>\n",
       "    <tr style=\"text-align: right;\">\n",
       "      <th></th>\n",
       "      <th>City</th>\n",
       "      <th>Lat</th>\n",
       "      <th>Lng</th>\n",
       "      <th>Max Temp</th>\n",
       "      <th>Humidity</th>\n",
       "      <th>Cloudiness</th>\n",
       "      <th>Wind Speed</th>\n",
       "      <th>Country</th>\n",
       "      <th>Date</th>\n",
       "    </tr>\n",
       "  </thead>\n",
       "  <tbody>\n",
       "    <tr>\n",
       "      <th>0</th>\n",
       "      <td>Coyhaique</td>\n",
       "      <td>-45.5752</td>\n",
       "      <td>-72.0662</td>\n",
       "      <td>74.01</td>\n",
       "      <td>30</td>\n",
       "      <td>0</td>\n",
       "      <td>5.75</td>\n",
       "      <td>CL</td>\n",
       "      <td>1643142441</td>\n",
       "    </tr>\n",
       "    <tr>\n",
       "      <th>1</th>\n",
       "      <td>Port Alfred</td>\n",
       "      <td>-33.5906</td>\n",
       "      <td>26.8910</td>\n",
       "      <td>72.25</td>\n",
       "      <td>83</td>\n",
       "      <td>67</td>\n",
       "      <td>8.37</td>\n",
       "      <td>ZA</td>\n",
       "      <td>1643142442</td>\n",
       "    </tr>\n",
       "    <tr>\n",
       "      <th>2</th>\n",
       "      <td>Punta Arenas</td>\n",
       "      <td>-53.1500</td>\n",
       "      <td>-70.9167</td>\n",
       "      <td>51.91</td>\n",
       "      <td>50</td>\n",
       "      <td>75</td>\n",
       "      <td>29.93</td>\n",
       "      <td>CL</td>\n",
       "      <td>1643142355</td>\n",
       "    </tr>\n",
       "    <tr>\n",
       "      <th>3</th>\n",
       "      <td>Chui</td>\n",
       "      <td>-33.6971</td>\n",
       "      <td>-53.4616</td>\n",
       "      <td>83.03</td>\n",
       "      <td>70</td>\n",
       "      <td>93</td>\n",
       "      <td>10.49</td>\n",
       "      <td>UY</td>\n",
       "      <td>1643142444</td>\n",
       "    </tr>\n",
       "    <tr>\n",
       "      <th>4</th>\n",
       "      <td>Pochutla</td>\n",
       "      <td>15.7432</td>\n",
       "      <td>-96.4661</td>\n",
       "      <td>87.82</td>\n",
       "      <td>39</td>\n",
       "      <td>0</td>\n",
       "      <td>11.30</td>\n",
       "      <td>MX</td>\n",
       "      <td>1643142446</td>\n",
       "    </tr>\n",
       "  </tbody>\n",
       "</table>\n",
       "</div>"
      ],
      "text/plain": [
       "           City      Lat      Lng  Max Temp  Humidity  Cloudiness  Wind Speed  \\\n",
       "0     Coyhaique -45.5752 -72.0662     74.01        30           0        5.75   \n",
       "1   Port Alfred -33.5906  26.8910     72.25        83          67        8.37   \n",
       "2  Punta Arenas -53.1500 -70.9167     51.91        50          75       29.93   \n",
       "3          Chui -33.6971 -53.4616     83.03        70          93       10.49   \n",
       "4      Pochutla  15.7432 -96.4661     87.82        39           0       11.30   \n",
       "\n",
       "  Country        Date  \n",
       "0      CL  1643142441  \n",
       "1      ZA  1643142442  \n",
       "2      CL  1643142355  \n",
       "3      UY  1643142444  \n",
       "4      MX  1643142446  "
      ]
     },
     "execution_count": 7,
     "metadata": {},
     "output_type": "execute_result"
    }
   ],
   "source": [
    "#Put city data in data frame\n",
    "weather_data = pd.DataFrame({\"City\": City,\n",
    "                            \"Lat\": Lat,\n",
    "                            \"Lng\": Lng,\n",
    "                            \"Max Temp\": Max_Temp,\n",
    "                            \"Humidity\": Humidity,\n",
    "                            \"Cloudiness\": Cloudiness,\n",
    "                            \"Wind Speed\": Wind_Speed,\n",
    "                            \"Country\": Country,\n",
    "                            \"Date\": Date})\n",
    "\n",
    "#Write city data to csv file and export\n",
    "weather_data.to_csv(output_data_file, index = False)\n",
    "\n",
    "#Display data frame\n",
    "weather_data.head()"
   ]
  },
  {
   "cell_type": "code",
   "execution_count": 8,
   "metadata": {},
   "outputs": [
    {
     "data": {
      "text/html": [
       "<div>\n",
       "<style scoped>\n",
       "    .dataframe tbody tr th:only-of-type {\n",
       "        vertical-align: middle;\n",
       "    }\n",
       "\n",
       "    .dataframe tbody tr th {\n",
       "        vertical-align: top;\n",
       "    }\n",
       "\n",
       "    .dataframe thead th {\n",
       "        text-align: right;\n",
       "    }\n",
       "</style>\n",
       "<table border=\"1\" class=\"dataframe\">\n",
       "  <thead>\n",
       "    <tr style=\"text-align: right;\">\n",
       "      <th></th>\n",
       "      <th>Lat</th>\n",
       "      <th>Lng</th>\n",
       "      <th>Max Temp</th>\n",
       "      <th>Humidity</th>\n",
       "      <th>Cloudiness</th>\n",
       "      <th>Wind Speed</th>\n",
       "      <th>Date</th>\n",
       "    </tr>\n",
       "  </thead>\n",
       "  <tbody>\n",
       "    <tr>\n",
       "      <th>count</th>\n",
       "      <td>49.000000</td>\n",
       "      <td>49.000000</td>\n",
       "      <td>49.000000</td>\n",
       "      <td>49.000000</td>\n",
       "      <td>49.000000</td>\n",
       "      <td>49.000000</td>\n",
       "      <td>4.900000e+01</td>\n",
       "    </tr>\n",
       "    <tr>\n",
       "      <th>mean</th>\n",
       "      <td>12.379906</td>\n",
       "      <td>8.164845</td>\n",
       "      <td>49.692653</td>\n",
       "      <td>77.326531</td>\n",
       "      <td>62.632653</td>\n",
       "      <td>9.657143</td>\n",
       "      <td>1.643142e+09</td>\n",
       "    </tr>\n",
       "    <tr>\n",
       "      <th>std</th>\n",
       "      <td>40.736527</td>\n",
       "      <td>106.138057</td>\n",
       "      <td>34.579710</td>\n",
       "      <td>15.751174</td>\n",
       "      <td>39.241079</td>\n",
       "      <td>8.128384</td>\n",
       "      <td>4.489961e+01</td>\n",
       "    </tr>\n",
       "    <tr>\n",
       "      <th>min</th>\n",
       "      <td>-54.800000</td>\n",
       "      <td>-175.200000</td>\n",
       "      <td>-42.430000</td>\n",
       "      <td>30.000000</td>\n",
       "      <td>0.000000</td>\n",
       "      <td>0.830000</td>\n",
       "      <td>1.643142e+09</td>\n",
       "    </tr>\n",
       "    <tr>\n",
       "      <th>25%</th>\n",
       "      <td>-21.358500</td>\n",
       "      <td>-73.820300</td>\n",
       "      <td>34.270000</td>\n",
       "      <td>68.000000</td>\n",
       "      <td>23.000000</td>\n",
       "      <td>4.610000</td>\n",
       "      <td>1.643142e+09</td>\n",
       "    </tr>\n",
       "    <tr>\n",
       "      <th>50%</th>\n",
       "      <td>13.216700</td>\n",
       "      <td>6.869300</td>\n",
       "      <td>61.090000</td>\n",
       "      <td>80.000000</td>\n",
       "      <td>75.000000</td>\n",
       "      <td>7.050000</td>\n",
       "      <td>1.643142e+09</td>\n",
       "    </tr>\n",
       "    <tr>\n",
       "      <th>75%</th>\n",
       "      <td>45.923800</td>\n",
       "      <td>112.382500</td>\n",
       "      <td>78.530000</td>\n",
       "      <td>88.000000</td>\n",
       "      <td>99.000000</td>\n",
       "      <td>11.360000</td>\n",
       "      <td>1.643142e+09</td>\n",
       "    </tr>\n",
       "    <tr>\n",
       "      <th>max</th>\n",
       "      <td>77.484000</td>\n",
       "      <td>172.790200</td>\n",
       "      <td>87.820000</td>\n",
       "      <td>100.000000</td>\n",
       "      <td>100.000000</td>\n",
       "      <td>34.520000</td>\n",
       "      <td>1.643143e+09</td>\n",
       "    </tr>\n",
       "  </tbody>\n",
       "</table>\n",
       "</div>"
      ],
      "text/plain": [
       "             Lat         Lng   Max Temp    Humidity  Cloudiness  Wind Speed  \\\n",
       "count  49.000000   49.000000  49.000000   49.000000   49.000000   49.000000   \n",
       "mean   12.379906    8.164845  49.692653   77.326531   62.632653    9.657143   \n",
       "std    40.736527  106.138057  34.579710   15.751174   39.241079    8.128384   \n",
       "min   -54.800000 -175.200000 -42.430000   30.000000    0.000000    0.830000   \n",
       "25%   -21.358500  -73.820300  34.270000   68.000000   23.000000    4.610000   \n",
       "50%    13.216700    6.869300  61.090000   80.000000   75.000000    7.050000   \n",
       "75%    45.923800  112.382500  78.530000   88.000000   99.000000   11.360000   \n",
       "max    77.484000  172.790200  87.820000  100.000000  100.000000   34.520000   \n",
       "\n",
       "               Date  \n",
       "count  4.900000e+01  \n",
       "mean   1.643142e+09  \n",
       "std    4.489961e+01  \n",
       "min    1.643142e+09  \n",
       "25%    1.643142e+09  \n",
       "50%    1.643142e+09  \n",
       "75%    1.643142e+09  \n",
       "max    1.643143e+09  "
      ]
     },
     "execution_count": 8,
     "metadata": {},
     "output_type": "execute_result"
    }
   ],
   "source": [
    "#Generate descriptive statistics for data frame\n",
    "weather_summary = weather_data.describe()\n",
    "\n",
    "#Display summary\n",
    "weather_summary"
   ]
  },
  {
   "cell_type": "markdown",
   "metadata": {},
   "source": [
    "## Inspect the data and remove the cities where the humidity > 100%.\n",
    "----\n",
    "Skip this step if there are no cities that have humidity > 100%. "
   ]
  },
  {
   "cell_type": "code",
   "execution_count": 9,
   "metadata": {},
   "outputs": [],
   "source": [
    "try:\n",
    "    weather_data_clean = weather_data.loc[weather_data[\"Humidity\"] < 100]\n",
    "    weather_data_clean.describe()\n",
    "    \n",
    "except:\n",
    "    weather_summary\n",
    "    pass"
   ]
  },
  {
   "cell_type": "code",
   "execution_count": 10,
   "metadata": {},
   "outputs": [
    {
     "data": {
      "text/plain": [
       "[8, 14, 24]"
      ]
     },
     "execution_count": 10,
     "metadata": {},
     "output_type": "execute_result"
    }
   ],
   "source": [
    "#  Get the indices of cities that have humidity over 100%.\n",
    "humidity_indices = list(np.where(weather_data[\"Humidity\"] >= 100)[0])\n",
    "\n",
    "humidity_indices"
   ]
  },
  {
   "cell_type": "code",
   "execution_count": 13,
   "metadata": {},
   "outputs": [
    {
     "data": {
      "text/html": [
       "<div>\n",
       "<style scoped>\n",
       "    .dataframe tbody tr th:only-of-type {\n",
       "        vertical-align: middle;\n",
       "    }\n",
       "\n",
       "    .dataframe tbody tr th {\n",
       "        vertical-align: top;\n",
       "    }\n",
       "\n",
       "    .dataframe thead th {\n",
       "        text-align: right;\n",
       "    }\n",
       "</style>\n",
       "<table border=\"1\" class=\"dataframe\">\n",
       "  <thead>\n",
       "    <tr style=\"text-align: right;\">\n",
       "      <th></th>\n",
       "      <th>City</th>\n",
       "      <th>Lat</th>\n",
       "      <th>Lng</th>\n",
       "      <th>Max Temp</th>\n",
       "      <th>Humidity</th>\n",
       "      <th>Cloudiness</th>\n",
       "      <th>Wind Speed</th>\n",
       "      <th>Country</th>\n",
       "      <th>Date</th>\n",
       "    </tr>\n",
       "  </thead>\n",
       "  <tbody>\n",
       "    <tr>\n",
       "      <th>0</th>\n",
       "      <td>Coyhaique</td>\n",
       "      <td>-45.5752</td>\n",
       "      <td>-72.0662</td>\n",
       "      <td>74.01</td>\n",
       "      <td>30</td>\n",
       "      <td>0</td>\n",
       "      <td>5.75</td>\n",
       "      <td>CL</td>\n",
       "      <td>1643142441</td>\n",
       "    </tr>\n",
       "    <tr>\n",
       "      <th>1</th>\n",
       "      <td>Port Alfred</td>\n",
       "      <td>-33.5906</td>\n",
       "      <td>26.8910</td>\n",
       "      <td>72.25</td>\n",
       "      <td>83</td>\n",
       "      <td>67</td>\n",
       "      <td>8.37</td>\n",
       "      <td>ZA</td>\n",
       "      <td>1643142442</td>\n",
       "    </tr>\n",
       "    <tr>\n",
       "      <th>2</th>\n",
       "      <td>Punta Arenas</td>\n",
       "      <td>-53.1500</td>\n",
       "      <td>-70.9167</td>\n",
       "      <td>51.91</td>\n",
       "      <td>50</td>\n",
       "      <td>75</td>\n",
       "      <td>29.93</td>\n",
       "      <td>CL</td>\n",
       "      <td>1643142355</td>\n",
       "    </tr>\n",
       "    <tr>\n",
       "      <th>3</th>\n",
       "      <td>Chui</td>\n",
       "      <td>-33.6971</td>\n",
       "      <td>-53.4616</td>\n",
       "      <td>83.03</td>\n",
       "      <td>70</td>\n",
       "      <td>93</td>\n",
       "      <td>10.49</td>\n",
       "      <td>UY</td>\n",
       "      <td>1643142444</td>\n",
       "    </tr>\n",
       "    <tr>\n",
       "      <th>4</th>\n",
       "      <td>Pochutla</td>\n",
       "      <td>15.7432</td>\n",
       "      <td>-96.4661</td>\n",
       "      <td>87.82</td>\n",
       "      <td>39</td>\n",
       "      <td>0</td>\n",
       "      <td>11.30</td>\n",
       "      <td>MX</td>\n",
       "      <td>1643142446</td>\n",
       "    </tr>\n",
       "  </tbody>\n",
       "</table>\n",
       "</div>"
      ],
      "text/plain": [
       "           City      Lat      Lng  Max Temp  Humidity  Cloudiness  Wind Speed  \\\n",
       "0     Coyhaique -45.5752 -72.0662     74.01        30           0        5.75   \n",
       "1   Port Alfred -33.5906  26.8910     72.25        83          67        8.37   \n",
       "2  Punta Arenas -53.1500 -70.9167     51.91        50          75       29.93   \n",
       "3          Chui -33.6971 -53.4616     83.03        70          93       10.49   \n",
       "4      Pochutla  15.7432 -96.4661     87.82        39           0       11.30   \n",
       "\n",
       "  Country        Date  \n",
       "0      CL  1643142441  \n",
       "1      ZA  1643142442  \n",
       "2      CL  1643142355  \n",
       "3      UY  1643142444  \n",
       "4      MX  1643142446  "
      ]
     },
     "execution_count": 13,
     "metadata": {},
     "output_type": "execute_result"
    }
   ],
   "source": [
    "# Make a new DataFrame equal to the city data to drop all humidity outliers by index.\n",
    "# Passing \"inplace=False\" will make a copy of the city_data DataFrame, which we call \"clean_city_data\".\n",
    "clean_city_data = weather_data.drop(index = humidity_indices, inplace=False)\n",
    "clean_city_data.head()"
   ]
  },
  {
   "cell_type": "code",
   "execution_count": 14,
   "metadata": {},
   "outputs": [
    {
     "data": {
      "text/html": [
       "<div>\n",
       "<style scoped>\n",
       "    .dataframe tbody tr th:only-of-type {\n",
       "        vertical-align: middle;\n",
       "    }\n",
       "\n",
       "    .dataframe tbody tr th {\n",
       "        vertical-align: top;\n",
       "    }\n",
       "\n",
       "    .dataframe thead th {\n",
       "        text-align: right;\n",
       "    }\n",
       "</style>\n",
       "<table border=\"1\" class=\"dataframe\">\n",
       "  <thead>\n",
       "    <tr style=\"text-align: right;\">\n",
       "      <th></th>\n",
       "      <th>City</th>\n",
       "      <th>Lat</th>\n",
       "      <th>Lng</th>\n",
       "      <th>Max Temp</th>\n",
       "      <th>Humidity</th>\n",
       "      <th>Cloudiness</th>\n",
       "      <th>Wind Speed</th>\n",
       "      <th>Country</th>\n",
       "      <th>Date</th>\n",
       "    </tr>\n",
       "  </thead>\n",
       "  <tbody>\n",
       "    <tr>\n",
       "      <th>0</th>\n",
       "      <td>Coyhaique</td>\n",
       "      <td>-45.5752</td>\n",
       "      <td>-72.0662</td>\n",
       "      <td>74.01</td>\n",
       "      <td>30</td>\n",
       "      <td>0</td>\n",
       "      <td>5.75</td>\n",
       "      <td>CL</td>\n",
       "      <td>2022-01-25 20:27:21</td>\n",
       "    </tr>\n",
       "    <tr>\n",
       "      <th>1</th>\n",
       "      <td>Port Alfred</td>\n",
       "      <td>-33.5906</td>\n",
       "      <td>26.8910</td>\n",
       "      <td>72.25</td>\n",
       "      <td>83</td>\n",
       "      <td>67</td>\n",
       "      <td>8.37</td>\n",
       "      <td>ZA</td>\n",
       "      <td>2022-01-25 20:27:22</td>\n",
       "    </tr>\n",
       "    <tr>\n",
       "      <th>2</th>\n",
       "      <td>Punta Arenas</td>\n",
       "      <td>-53.1500</td>\n",
       "      <td>-70.9167</td>\n",
       "      <td>51.91</td>\n",
       "      <td>50</td>\n",
       "      <td>75</td>\n",
       "      <td>29.93</td>\n",
       "      <td>CL</td>\n",
       "      <td>2022-01-25 20:25:55</td>\n",
       "    </tr>\n",
       "    <tr>\n",
       "      <th>3</th>\n",
       "      <td>Chui</td>\n",
       "      <td>-33.6971</td>\n",
       "      <td>-53.4616</td>\n",
       "      <td>83.03</td>\n",
       "      <td>70</td>\n",
       "      <td>93</td>\n",
       "      <td>10.49</td>\n",
       "      <td>UY</td>\n",
       "      <td>2022-01-25 20:27:24</td>\n",
       "    </tr>\n",
       "    <tr>\n",
       "      <th>4</th>\n",
       "      <td>Pochutla</td>\n",
       "      <td>15.7432</td>\n",
       "      <td>-96.4661</td>\n",
       "      <td>87.82</td>\n",
       "      <td>39</td>\n",
       "      <td>0</td>\n",
       "      <td>11.30</td>\n",
       "      <td>MX</td>\n",
       "      <td>2022-01-25 20:27:26</td>\n",
       "    </tr>\n",
       "  </tbody>\n",
       "</table>\n",
       "</div>"
      ],
      "text/plain": [
       "           City      Lat      Lng  Max Temp  Humidity  Cloudiness  Wind Speed  \\\n",
       "0     Coyhaique -45.5752 -72.0662     74.01        30           0        5.75   \n",
       "1   Port Alfred -33.5906  26.8910     72.25        83          67        8.37   \n",
       "2  Punta Arenas -53.1500 -70.9167     51.91        50          75       29.93   \n",
       "3          Chui -33.6971 -53.4616     83.03        70          93       10.49   \n",
       "4      Pochutla  15.7432 -96.4661     87.82        39           0       11.30   \n",
       "\n",
       "  Country                Date  \n",
       "0      CL 2022-01-25 20:27:21  \n",
       "1      ZA 2022-01-25 20:27:22  \n",
       "2      CL 2022-01-25 20:25:55  \n",
       "3      UY 2022-01-25 20:27:24  \n",
       "4      MX 2022-01-25 20:27:26  "
      ]
     },
     "execution_count": 14,
     "metadata": {},
     "output_type": "execute_result"
    }
   ],
   "source": [
    "#Format date from unix\n",
    "clean_city_data[\"Date\"] = clean_city_data[\"Date\"].astype('int').astype(\"datetime64[s]\")\n",
    "clean_city_data.head()"
   ]
  },
  {
   "cell_type": "markdown",
   "metadata": {},
   "source": [
    "## Plotting the Data\n",
    "* Use proper labeling of the plots using plot titles (including date of analysis) and axes labels.\n",
    "* Save the plotted figures as .pngs."
   ]
  },
  {
   "cell_type": "markdown",
   "metadata": {},
   "source": [
    "## Latitude vs. Temperature Plot"
   ]
  },
  {
   "cell_type": "code",
   "execution_count": 15,
   "metadata": {
    "scrolled": true
   },
   "outputs": [
    {
     "data": {
      "image/png": "[encoded data removed]",
      "text/plain": [
       "<Figure size 432x288 with 1 Axes>"
      ]
     },
     "metadata": {
      "needs_background": "light"
     },
     "output_type": "display_data"
    }
   ],
   "source": [
    "#Scatter plot function\n",
    "def scatter(x_column, y_column, ylabel):\n",
    "    x_values = clean_city_data[x_column]\n",
    "    y_values = clean_city_data[y_column]\n",
    "    plt.scatter(x_values,y_values)\n",
    "    plt.xlabel(\"Latitude\")\n",
    "    plt.ylabel(ylabel)\n",
    "    plt.title(f\"\"\"City Latitude vs {ylabel} ({clean_city_data.iloc[0,8].strftime('%m-%d-%Y')})\"\"\")\n",
    "    plt.grid()\n",
    "    plt.show()\n",
    "\n",
    "#Scatter plot of latitude vs max temperature\n",
    "scatter(\"Lat\", \"Max Temp\", \"Max Temperature (F)\")\n",
    "\n",
    "#Don't forget to write sentance(s) about every graph!"
   ]
  },
  {
   "cell_type": "markdown",
   "metadata": {},
   "source": [
    "## Latitude vs. Humidity Plot"
   ]
  },
  {
   "cell_type": "code",
   "execution_count": 16,
   "metadata": {},
   "outputs": [
    {
     "data": {
      "image/png": "[encoded data removed]",
      "text/plain": [
       "<Figure size 432x288 with 1 Axes>"
      ]
     },
     "metadata": {
      "needs_background": "light"
     },
     "output_type": "display_data"
    }
   ],
   "source": [
    "#Scatter plot of latitude versus humidity\n",
    "scatter(\"Lat\",\"Humidity\", \"Humidity (%)\")\n",
    "\n",
    "#Don't forget to write sentance(s) about every graph!"
   ]
  },
  {
   "cell_type": "markdown",
   "metadata": {},
   "source": [
    "## Latitude vs. Cloudiness Plot"
   ]
  },
  {
   "cell_type": "code",
   "execution_count": 17,
   "metadata": {},
   "outputs": [
    {
     "data": {
      "image/png": "[encoded data removed]",
      "text/plain": [
       "<Figure size 432x288 with 1 Axes>"
      ]
     },
     "metadata": {
      "needs_background": "light"
     },
     "output_type": "display_data"
    }
   ],
   "source": [
    "#Scatter plot of latitude versus cloudiness\n",
    "scatter(\"Lat\", \"Cloudiness\", \"Cloudiness (%)\")\n",
    "\n",
    "#Don't forget to write sentance(s) about every graph!"
   ]
  },
  {
   "cell_type": "markdown",
   "metadata": {},
   "source": [
    "## Latitude vs. Wind Speed Plot"
   ]
  },
  {
   "cell_type": "code",
   "execution_count": 18,
   "metadata": {},
   "outputs": [
    {
     "data": {
      "image/png": "[encoded data removed]",
      "text/plain": [
       "<Figure size 432x288 with 1 Axes>"
      ]
     },
     "metadata": {
      "needs_background": "light"
     },
     "output_type": "display_data"
    }
   ],
   "source": [
    "#Scatter plot of latitude versus wind speed\n",
    "scatter(\"Lat\", \"Wind Speed\", \"Wind Speed (mph)\")\n",
    "\n",
    "#Don't forget to write sentance(s) about every graph!"
   ]
  },
  {
   "cell_type": "markdown",
   "metadata": {},
   "source": [
    "## Linear Regression"
   ]
  },
  {
   "cell_type": "code",
   "execution_count": 19,
   "metadata": {},
   "outputs": [],
   "source": [
    "#Split clean_city_data by hemisphere - northern where lat > 0, southern where lat < 0\n",
    "northern_city = clean_city_data.loc[clean_city_data[\"Lat\"] >= 0]\n",
    "southern_city = clean_city_data.loc[clean_city_data[\"Lat\"] < 0]"
   ]
  },
  {
   "cell_type": "markdown",
   "metadata": {},
   "source": [
    "####  Northern Hemisphere - Max Temp vs. Latitude Linear Regression"
   ]
  },
  {
   "cell_type": "code",
   "execution_count": 21,
   "metadata": {},
   "outputs": [
    {
     "data": {
      "image/png": "[encoded data removed]",
      "text/plain": [
       "<Figure size 432x288 with 1 Axes>"
      ]
     },
     "metadata": {
      "needs_background": "light"
     },
     "output_type": "display_data"
    },
    {
     "name": "stdout",
     "output_type": "stream",
     "text": [
      "The r squared value is: 0.8296626695321854\n"
     ]
    }
   ],
   "source": [
    "#Linear regression function\n",
    "def linreg(df, y_column, ylabel, x_loc, y_loc, hemisphere):\n",
    "    #x- and y- values\n",
    "    x_values = df[\"Lat\"]\n",
    "    y_values = df[y_column]\n",
    "    \n",
    "    #Get regression values\n",
    "    (slope, intercept, rvalue, pvalue, stderr) = linregress(x_values, y_values)\n",
    "    regress_values = x_values * slope + intercept\n",
    "\n",
    "    #Line equation\n",
    "    line_eq = \"y = \" + str(round(slope,2)) + \"x +\" + str(round(intercept,2))\n",
    "    \n",
    "    #Plot scatter plot and linear regression\n",
    "    plt.scatter(x_values,y_values)\n",
    "    plt.plot(x_values,regress_values,\"b\")\n",
    "    plt.annotate(line_eq, (x_loc,y_loc),fontsize=12,color=\"b\")\n",
    "    \n",
    "    #Labels\n",
    "    plt.xlabel(\"Latitude\")\n",
    "    plt.ylabel(ylabel)\n",
    "    plt.title(f\"\"\"City Latitude vs {ylabel} ({df.iloc[0,8].strftime('%m-%d-%Y')})\"\"\")\n",
    "    plt.grid()\n",
    "    plt.savefig(f\"../output_data/{hemisphere}_{y_column}.png\")\n",
    "    plt.show()\n",
    "    \n",
    "    #Print r-value\n",
    "    print(f\"The r squared value is: {rvalue**2}\")\n",
    "    \n",
    "#Linear regression for max temp and latitude in northern hemisphere\n",
    "linreg(northern_city, \"Max Temp\", \"Max Temperature (F)\", 45, 60, \"Northern\")"
   ]
  },
  {
   "cell_type": "markdown",
   "metadata": {},
   "source": [
    "####  Southern Hemisphere - Max Temp vs. Latitude Linear Regression"
   ]
  },
  {
   "cell_type": "code",
   "execution_count": 22,
   "metadata": {},
   "outputs": [
    {
     "data": {
      "image/png": "[encoded data removed]",
      "text/plain": [
       "<Figure size 432x288 with 1 Axes>"
      ]
     },
     "metadata": {
      "needs_background": "light"
     },
     "output_type": "display_data"
    },
    {
     "name": "stdout",
     "output_type": "stream",
     "text": [
      "The r squared value is: 0.523848900275723\n"
     ]
    }
   ],
   "source": [
    "#Southern hemisphere latitude vs max temp linear regression\n",
    "linreg(southern_city, \"Max Temp\", \"Max Temperature (F)\", -30, 55, \"Southern\")"
   ]
  },
  {
   "cell_type": "markdown",
   "metadata": {},
   "source": [
    "####  Northern Hemisphere - Humidity (%) vs. Latitude Linear Regression"
   ]
  },
  {
   "cell_type": "code",
   "execution_count": 24,
   "metadata": {},
   "outputs": [
    {
     "data": {
      "image/png": "[encoded data removed]",
      "text/plain": [
       "<Figure size 432x288 with 1 Axes>"
      ]
     },
     "metadata": {
      "needs_background": "light"
     },
     "output_type": "display_data"
    },
    {
     "name": "stdout",
     "output_type": "stream",
     "text": [
      "The r squared value is: 0.16743307565823679\n"
     ]
    }
   ],
   "source": [
    "#Northern hemisphere latitude vs humidity linear regression\n",
    "linreg(northern_city, \"Humidity\", \"Humidity (%)\", 43, 43, \"Northern\")"
   ]
  },
  {
   "cell_type": "markdown",
   "metadata": {},
   "source": [
    "####  Southern Hemisphere - Humidity (%) vs. Latitude Linear Regression"
   ]
  },
  {
   "cell_type": "code",
   "execution_count": 25,
   "metadata": {},
   "outputs": [
    {
     "data": {
      "image/png": "[encoded data removed]",
      "text/plain": [
       "<Figure size 432x288 with 1 Axes>"
      ]
     },
     "metadata": {
      "needs_background": "light"
     },
     "output_type": "display_data"
    },
    {
     "name": "stdout",
     "output_type": "stream",
     "text": [
      "The r squared value is: 0.18882999086457763\n"
     ]
    }
   ],
   "source": [
    "#Southern hemisphere latitude vs humidity linear regression\n",
    "linreg(southern_city, \"Humidity\", \"Humidity (%)\", -34, 60, \"Southern\")"
   ]
  },
  {
   "cell_type": "markdown",
   "metadata": {},
   "source": [
    "####  Northern Hemisphere - Cloudiness (%) vs. Latitude Linear Regression"
   ]
  },
  {
   "cell_type": "code",
   "execution_count": 26,
   "metadata": {},
   "outputs": [
    {
     "data": {
      "image/png": "[encoded data removed]",
      "text/plain": [
       "<Figure size 432x288 with 1 Axes>"
      ]
     },
     "metadata": {
      "needs_background": "light"
     },
     "output_type": "display_data"
    },
    {
     "name": "stdout",
     "output_type": "stream",
     "text": [
      "The r squared value is: 0.08382296943194872\n"
     ]
    }
   ],
   "source": [
    "#Northern hemisphere latitude vs cloudiness linear regression\n",
    "linreg(northern_city, \"Cloudiness\", \"Cloudiness (%)\", 43, 80, \"Northern\")"
   ]
  },
  {
   "cell_type": "markdown",
   "metadata": {},
   "source": [
    "####  Southern Hemisphere - Cloudiness (%) vs. Latitude Linear Regression"
   ]
  },
  {
   "cell_type": "code",
   "execution_count": 27,
   "metadata": {},
   "outputs": [
    {
     "data": {
      "image/png": "[encoded data removed]",
      "text/plain": [
       "<Figure size 432x288 with 1 Axes>"
      ]
     },
     "metadata": {
      "needs_background": "light"
     },
     "output_type": "display_data"
    },
    {
     "name": "stdout",
     "output_type": "stream",
     "text": [
      "The r squared value is: 0.17297259526735873\n"
     ]
    }
   ],
   "source": [
    "#Southern hemisphere latitude vs cloudiness linear regression\n",
    "linreg(southern_city, \"Cloudiness\", \"Cloudiness (%)\", -34, 74, \"Southern\")"
   ]
  },
  {
   "cell_type": "markdown",
   "metadata": {},
   "source": [
    "####  Northern Hemisphere - Wind Speed (mph) vs. Latitude Linear Regression"
   ]
  },
  {
   "cell_type": "code",
   "execution_count": 29,
   "metadata": {},
   "outputs": [
    {
     "data": {
      "image/png": "[encoded data removed]",
      "text/plain": [
       "<Figure size 432x288 with 1 Axes>"
      ]
     },
     "metadata": {
      "needs_background": "light"
     },
     "output_type": "display_data"
    },
    {
     "name": "stdout",
     "output_type": "stream",
     "text": [
      "The r squared value is: 0.011412206682570666\n"
     ]
    }
   ],
   "source": [
    "#Northern hemisphere latitude vs cloudiness linear regression\n",
    "linreg(northern_city, \"Wind Speed\", \"Wind Speed (mph)\", 43, 22, \"Northern\")"
   ]
  },
  {
   "cell_type": "markdown",
   "metadata": {},
   "source": [
    "####  Southern Hemisphere - Wind Speed (mph) vs. Latitude Linear Regression"
   ]
  },
  {
   "cell_type": "code",
   "execution_count": 30,
   "metadata": {},
   "outputs": [
    {
     "data": {
      "image/png": "[encoded data removed]",
      "text/plain": [
       "<Figure size 432x288 with 1 Axes>"
      ]
     },
     "metadata": {
      "needs_background": "light"
     },
     "output_type": "display_data"
    },
    {
     "name": "stdout",
     "output_type": "stream",
     "text": [
      "The r squared value is: 0.19313942804298015\n"
     ]
    }
   ],
   "source": [
    "#Southern hemisphere latitude vs cloudiness linear regression\n",
    "linreg(southern_city, \"Wind Speed\", \"Wind Speed (mph)\", -50, 20, \"Southern\")"
   ]
  },
  {
   "cell_type": "code",
   "execution_count": null,
   "metadata": {},
   "outputs": [],
   "source": []
  }
 ],
 "metadata": {
  "anaconda-cloud": {},
  "kernel_info": {
   "name": "python3"
  },
  "kernelspec": {
   "display_name": "Python 3",
   "language": "python",
   "name": "python3"
  },
  "language_info": {
   "codemirror_mode": {
    "name": "ipython",
    "version": 3
   },
   "file_extension": ".py",
   "mimetype": "text/x-python",
   "name": "python",
   "nbconvert_exporter": "python",
   "pygments_lexer": "ipython3",
   "version": "3.8.8"
  },
  "latex_envs": {
   "LaTeX_envs_menu_present": true,
   "autoclose": false,
   "autocomplete": true,
   "bibliofile": "biblio.bib",
   "cite_by": "apalike",
   "current_citInitial": 1,
   "eqLabelWithNumbers": true,
   "eqNumInitial": 1,
   "hotkeys": {
    "equation": "Ctrl-E",
    "itemize": "Ctrl-I"
   },
   "labels_anchors": false,
   "latex_user_defs": false,
   "report_style_numbering": false,
   "user_envs_cfg": false
  },
  "nteract": {
   "version": "0.12.3"
  }
 },
 "nbformat": 4,
 "nbformat_minor": 2
}
